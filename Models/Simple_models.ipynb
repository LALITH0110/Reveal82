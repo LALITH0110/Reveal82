{
  "cells": [
    {
      "cell_type": "markdown",
      "metadata": {
        "id": "rixDjv04SLTO"
      },
      "source": [
        "# Import everything"
      ]
    },
    {
      "cell_type": "code",
      "execution_count": 27,
      "metadata": {
        "id": "A3ho6OzIQuYE"
      },
      "outputs": [],
      "source": [
        "import pandas as pd\n",
        "import numpy as np\n",
        "from sklearn.model_selection import train_test_split\n",
        "from sklearn.preprocessing import MinMaxScaler\n",
        "from sklearn.impute import SimpleImputer\n",
        "from sklearn.preprocessing import LabelEncoder\n",
        "from sklearn.metrics import mean_squared_error, r2_score\n",
        "from tensorflow.keras.models import Sequential\n",
        "from tensorflow.keras.layers import Dense\n",
        "import matplotlib.pyplot as plt\n",
        "import tensorflow as tf"
      ]
    },
    {
      "cell_type": "markdown",
      "metadata": {
        "id": "hIyeFWjSSUBj"
      },
      "source": [
        "## Data Normalization"
      ]
    },
    {
      "cell_type": "code",
      "execution_count": 28,
      "metadata": {
        "id": "XoTf5FboRWD9"
      },
      "outputs": [],
      "source": [
        "df = pd.read_csv('finaltrygood.csv', low_memory=False)"
      ]
    },
    {
      "cell_type": "markdown",
      "metadata": {
        "id": "9f3syF40SZiq"
      },
      "source": [
        "Get only the relevant columns"
      ]
    },
    {
      "cell_type": "code",
      "execution_count": 29,
      "metadata": {
        "id": "UFUKCZ7_SDhj"
      },
      "outputs": [],
      "source": [
        "relevant_columns = [\n",
        "    'Draw1', 'Draw2', 'Draw3', 'Max', 'longitude', 'latitude', 'township',\n",
        "    'nbhd', 'tract_pop', 'tract_white_perc', 'ward', 'Property Class',\n",
        "    'Land Square Feet', 'Type of Residence', 'Apartments', 'Wall Material',\n",
        "    'Roof Material', 'Rooms', 'Bedrooms', 'Basement', 'Construction Quality',\n",
        "    'Site Desireability', 'Building Square Feet', 'Repair Condition',\n",
        "    'Age', 'Near Major Road', 'Location Factor', 'Garage indicator',\n",
        "    'Private Service Line Material', 'Public Service Line Material'\n",
        "]"
      ]
    },
    {
      "cell_type": "code",
      "execution_count": 30,
      "metadata": {
        "id": "jN4It3QX8qy4"
      },
      "outputs": [],
      "source": [
        "# Using this to make simpler\n",
        "\n",
        "relevant_columns = [\n",
        "    'Draw1', 'Draw2', 'Draw3', 'Max', 'longitude', 'latitude',\n",
        "    'Private Service Line Material', 'Public Service Line Material'\n",
        "]"
      ]
    },
    {
      "cell_type": "code",
      "execution_count": 31,
      "metadata": {
        "id": "StihCTp_SGjE"
      },
      "outputs": [],
      "source": [
        "df = df[relevant_columns]"
      ]
    },
    {
      "cell_type": "code",
      "execution_count": 32,
      "metadata": {
        "id": "BPw7UhdAJhlt"
      },
      "outputs": [],
      "source": [
        "# Using only \"LEAD\" and \"NOT LEAD\"\n",
        "df = df[(df['Private Service Line Material'].isin(['LEAD', 'NOT LEAD'])) &\n",
        "        (df['Public Service Line Material'].isin(['LEAD', 'NOT LEAD']))]\n"
      ]
    },
    {
      "cell_type": "markdown",
      "metadata": {
        "id": "fIeUd56XSpnT"
      },
      "source": [
        "numeric columns with median"
      ]
    },
    {
      "cell_type": "code",
      "execution_count": 33,
      "metadata": {
        "id": "wr7kX9dbDNX6"
      },
      "outputs": [],
      "source": [
        "numeric_columns = df.select_dtypes(include=[np.number]).columns\n",
        "categorical_columns = df.select_dtypes(include=[object]).columns\n",
        "\n",
        "numeric_imputer = SimpleImputer(strategy='median')\n",
        "df[numeric_columns] = numeric_imputer.fit_transform(df[numeric_columns])\n"
      ]
    },
    {
      "cell_type": "markdown",
      "metadata": {
        "id": "7pyQtewWSuCo"
      },
      "source": [
        "categorical variables"
      ]
    },
    {
      "cell_type": "code",
      "execution_count": 36,
      "metadata": {
        "id": "BeiwJTJzS1UQ"
      },
      "outputs": [],
      "source": [
        "le = LabelEncoder()\n",
        "for col in categorical_columns:\n",
        "    df[col] = le.fit_transform(df[col].astype(str))"
      ]
    },
    {
      "cell_type": "markdown",
      "metadata": {
        "id": "wfaJJbZDTI7u"
      },
      "source": [
        "Normalize numeric features"
      ]
    },
    {
      "cell_type": "code",
      "execution_count": 37,
      "metadata": {
        "id": "gcn_lloMTJms"
      },
      "outputs": [],
      "source": [
        "scaler = MinMaxScaler()\n",
        "df[numeric_columns] = scaler.fit_transform(df[numeric_columns])"
      ]
    },
    {
      "cell_type": "markdown",
      "metadata": {
        "id": "HzHf-vvZgjXI"
      },
      "source": [
        "-----------------------------------------------------------------------"
      ]
    },
    {
      "cell_type": "markdown",
      "metadata": {
        "id": "Vtv_J5J_gmzv"
      },
      "source": [
        "# **K-means cluster**"
      ]
    },
    {
      "cell_type": "code",
      "execution_count": 38,
      "metadata": {
        "colab": {
          "base_uri": "https://localhost:8080/"
        },
        "id": "RP_obG7_aKna",
        "outputId": "16a44f9c-87ae-4c20-f6e3-ad4b172939ea"
      },
      "outputs": [
        {
          "name": "stdout",
          "output_type": "stream",
          "text": [
            "Cluster Centers:\n",
            "[[5.11925702e-03 7.59339806e+01 1.22899192e-01 8.17864078e+01\n",
            "  4.07810289e-01 7.91848541e-01 9.30097087e-01 6.85436893e-01]\n",
            " [4.22971947e-03 5.52222222e+01 8.98295767e-02 5.60163399e+01\n",
            "  6.88036850e-01 2.61461287e-01 6.60130719e-01 3.26797386e-01]\n",
            " [1.75123902e-03 2.33590308e+01 3.33360781e-02 2.33061674e+01\n",
            "  4.15733426e-01 7.83849123e-01 6.27753304e-01 9.69162996e-02]\n",
            " [5.41490281e-04 2.84803150e+00 1.36519244e-02 6.33228346e+00\n",
            "  5.94905709e-01 6.83006010e-01 9.97637795e-01 9.97637795e-01]\n",
            " [8.87853300e-01 2.26666667e+01 6.88473520e-01 4.90000000e+01\n",
            "  7.51363883e-01 4.40953551e-01 6.66666667e-01 3.33333333e-01]]\n",
            "\n",
            "Cluster Summary:\n",
            "            Draw1      Draw2     Draw3        Max  longitude  latitude  \\\n",
            "Cluster                                                                  \n",
            "0        0.005122  76.040856  0.122967  81.898833   0.408139  0.791963   \n",
            "1        0.004230  55.222222  0.089830  56.016340   0.688037  0.261461   \n",
            "2        0.001751  23.359031  0.033336  23.306167   0.415733  0.783849   \n",
            "3        0.000544   2.862313  0.013710   6.346184   0.594626  0.683045   \n",
            "4        0.887853  22.666667  0.688474  49.000000   0.751364  0.440954   \n",
            "\n",
            "         Private Service Line Material  Public Service Line Material  \n",
            "Cluster                                                               \n",
            "0                             0.929961                      0.684825  \n",
            "1                             0.660131                      0.326797  \n",
            "2                             0.627753                      0.096916  \n",
            "3                             0.997640                      0.997640  \n",
            "4                             0.666667                      0.333333  \n"
          ]
        }
      ],
      "source": [
        "from sklearn.cluster import KMeans\n",
        "from sklearn.preprocessing import StandardScaler\n",
        "\n",
        "X = df[relevant_columns].dropna()\n",
        "\n",
        "# Standardize the features\n",
        "scaler = StandardScaler()\n",
        "X_scaled = scaler.fit_transform(X)\n",
        "\n",
        "# Apply K-means clustering\n",
        "n_clusters = 5  # You can adjust this number\n",
        "kmeans = KMeans(n_clusters=n_clusters, random_state=42)\n",
        "df['Cluster'] = kmeans.fit_predict(X_scaled)\n",
        "\n",
        "# Analyze the results\n",
        "cluster_centers = scaler.inverse_transform(kmeans.cluster_centers_)\n",
        "cluster_summary = df.groupby('Cluster')[relevant_columns].mean()\n",
        "\n",
        "print(\"Cluster Centers:\")\n",
        "print(cluster_centers)\n",
        "print(\"\\nCluster Summary:\")\n",
        "print(cluster_summary)"
      ]
    },
    {
      "cell_type": "code",
      "execution_count": 39,
      "metadata": {
        "colab": {
          "base_uri": "https://localhost:8080/"
        },
        "id": "9uvKhhkIatxb",
        "outputId": "db13fe05-7484-4094-b273-e9c28cb7a244"
      },
      "outputs": [
        {
          "name": "stdout",
          "output_type": "stream",
          "text": [
            "Silhouette Score: 0.7212735368195415\n",
            "Calinski-Harabasz Score: 9461.398137659391\n"
          ]
        }
      ],
      "source": [
        "from sklearn.metrics import silhouette_score, calinski_harabasz_score\n",
        "import matplotlib.pyplot as plt\n",
        "\n",
        "kmeans = KMeans(n_clusters=5, random_state=42)\n",
        "cluster_labels = kmeans.fit_predict(X)\n",
        "\n",
        "# Silhouette Score\n",
        "silhouette_avg = silhouette_score(X, cluster_labels)\n",
        "print(f\"Silhouette Score: {silhouette_avg}\")\n",
        "\n",
        "# Calinski-Harabasz Index\n",
        "ch_score = calinski_harabasz_score(X, cluster_labels)\n",
        "print(f\"Calinski-Harabasz Score: {ch_score}\")\n",
        "\n",
        "# Elbow Method\n",
        "inertias = []\n",
        "k_range = range(1, 11)\n",
        "for k in k_range:\n",
        "    kmeans = KMeans(n_clusters=k, random_state=42)\n",
        "    kmeans.fit(X)\n",
        "    inertias.append(kmeans.inertia_)\n",
        "\n"
      ]
    },
    {
      "cell_type": "markdown",
      "metadata": {
        "id": "VcdNja4SgwHS"
      },
      "source": [
        "# **Neural Networks with Dense and Dropout**"
      ]
    },
    {
      "cell_type": "code",
      "execution_count": 40,
      "metadata": {
        "id": "1rDXPzkwDajK"
      },
      "outputs": [],
      "source": [
        "X = df.drop(['Private Service Line Material', 'Public Service Line Material'], axis=1)\n",
        "y_private = df['Private Service Line Material']\n",
        "y_public = df['Public Service Line Material']"
      ]
    },
    {
      "cell_type": "code",
      "execution_count": null,
      "metadata": {
        "colab": {
          "base_uri": "https://localhost:8080/"
        },
        "id": "MFF4nwBNDjcr",
        "outputId": "196660da-ee8f-4453-c32d-f525e370c565"
      },
      "outputs": [
        {
          "name": "stderr",
          "output_type": "stream",
          "text": [
            "/usr/local/lib/python3.11/dist-packages/keras/src/layers/core/dense.py:87: UserWarning: Do not pass an `input_shape`/`input_dim` argument to a layer. When using Sequential models, prefer using an `Input(shape)` object as the first layer in the model instead.\n",
            "  super().__init__(activity_regularizer=activity_regularizer, **kwargs)\n"
          ]
        },
        {
          "name": "stdout",
          "output_type": "stream",
          "text": [
            "Epoch 1/10\n",
            "\u001b[1m51/51\u001b[0m \u001b[32m━━━━━━━━━━━━━━━━━━━━\u001b[0m\u001b[37m\u001b[0m \u001b[1m2s\u001b[0m 8ms/step - accuracy: 0.4116 - loss: 5.1553 - val_accuracy: 0.8676 - val_loss: 0.9581\n",
            "Epoch 2/10\n",
            "\u001b[1m51/51\u001b[0m \u001b[32m━━━━━━━━━━━━━━━━━━━━\u001b[0m\u001b[37m\u001b[0m \u001b[1m0s\u001b[0m 4ms/step - accuracy: 0.8330 - loss: 0.9012 - val_accuracy: 0.8676 - val_loss: 0.6183\n",
            "Epoch 3/10\n",
            "\u001b[1m51/51\u001b[0m \u001b[32m━━━━━━━━━━━━━━━━━━━━\u001b[0m\u001b[37m\u001b[0m \u001b[1m0s\u001b[0m 4ms/step - accuracy: 0.8597 - loss: 0.5625 - val_accuracy: 0.8676 - val_loss: 0.5200\n",
            "Epoch 4/10\n",
            "\u001b[1m51/51\u001b[0m \u001b[32m━━━━━━━━━━━━━━━━━━━━\u001b[0m\u001b[37m\u001b[0m \u001b[1m0s\u001b[0m 5ms/step - accuracy: 0.8417 - loss: 0.4765 - val_accuracy: 0.8676 - val_loss: 0.4810\n",
            "Epoch 5/10\n",
            "\u001b[1m51/51\u001b[0m \u001b[32m━━━━━━━━━━━━━━━━━━━━\u001b[0m\u001b[37m\u001b[0m \u001b[1m0s\u001b[0m 5ms/step - accuracy: 0.8634 - loss: 0.4161 - val_accuracy: 0.8676 - val_loss: 0.4203\n",
            "Epoch 6/10\n",
            "\u001b[1m51/51\u001b[0m \u001b[32m━━━━━━━━━━━━━━━━━━━━\u001b[0m\u001b[37m\u001b[0m \u001b[1m0s\u001b[0m 4ms/step - accuracy: 0.8489 - loss: 0.4118 - val_accuracy: 0.8676 - val_loss: 0.4028\n",
            "Epoch 7/10\n",
            "\u001b[1m51/51\u001b[0m \u001b[32m━━━━━━━━━━━━━━━━━━━━\u001b[0m\u001b[37m\u001b[0m \u001b[1m0s\u001b[0m 4ms/step - accuracy: 0.8542 - loss: 0.3963 - val_accuracy: 0.8676 - val_loss: 0.3925\n",
            "Epoch 8/10\n",
            "\u001b[1m51/51\u001b[0m \u001b[32m━━━━━━━━━━━━━━━━━━━━\u001b[0m\u001b[37m\u001b[0m \u001b[1m0s\u001b[0m 4ms/step - accuracy: 0.8701 - loss: 0.3712 - val_accuracy: 0.8676 - val_loss: 0.3815\n",
            "Epoch 9/10\n",
            "\u001b[1m51/51\u001b[0m \u001b[32m━━━━━━━━━━━━━━━━━━━━\u001b[0m\u001b[37m\u001b[0m \u001b[1m0s\u001b[0m 4ms/step - accuracy: 0.8622 - loss: 0.3768 - val_accuracy: 0.8676 - val_loss: 0.3641\n",
            "Epoch 10/10\n",
            "\u001b[1m51/51\u001b[0m \u001b[32m━━━━━━━━━━━━━━━━━━━━\u001b[0m\u001b[37m\u001b[0m \u001b[1m0s\u001b[0m 4ms/step - accuracy: 0.8731 - loss: 0.3711 - val_accuracy: 0.8676 - val_loss: 0.3598\n",
            "\n",
            "--------------------------------------------------------------------------------------------\n",
            "\n",
            "Epoch 1/10\n",
            "\u001b[1m51/51\u001b[0m \u001b[32m━━━━━━━━━━━━━━━━━━━━\u001b[0m\u001b[37m\u001b[0m \u001b[1m3s\u001b[0m 12ms/step - accuracy: 0.6785 - loss: 2.0309 - val_accuracy: 0.6912 - val_loss: 0.6598\n",
            "Epoch 2/10\n",
            "\u001b[1m51/51\u001b[0m \u001b[32m━━━━━━━━━━━━━━━━━━━━\u001b[0m\u001b[37m\u001b[0m \u001b[1m1s\u001b[0m 5ms/step - accuracy: 0.7219 - loss: 0.8827 - val_accuracy: 0.6814 - val_loss: 0.5790\n",
            "Epoch 3/10\n",
            "\u001b[1m51/51\u001b[0m \u001b[32m━━━━━━━━━━━━━━━━━━━━\u001b[0m\u001b[37m\u001b[0m \u001b[1m0s\u001b[0m 4ms/step - accuracy: 0.7189 - loss: 0.6867 - val_accuracy: 0.6838 - val_loss: 0.5357\n",
            "Epoch 4/10\n",
            "\u001b[1m51/51\u001b[0m \u001b[32m━━━━━━━━━━━━━━━━━━━━\u001b[0m\u001b[37m\u001b[0m \u001b[1m0s\u001b[0m 4ms/step - accuracy: 0.6916 - loss: 0.6110 - val_accuracy: 0.6765 - val_loss: 0.5387\n",
            "Epoch 5/10\n",
            "\u001b[1m51/51\u001b[0m \u001b[32m━━━━━━━━━━━━━━━━━━━━\u001b[0m\u001b[37m\u001b[0m \u001b[1m0s\u001b[0m 4ms/step - accuracy: 0.6947 - loss: 0.5651 - val_accuracy: 0.6716 - val_loss: 0.5147\n",
            "Epoch 6/10\n",
            "\u001b[1m51/51\u001b[0m \u001b[32m━━━━━━━━━━━━━━━━━━━━\u001b[0m\u001b[37m\u001b[0m \u001b[1m0s\u001b[0m 4ms/step - accuracy: 0.7043 - loss: 0.5573 - val_accuracy: 0.6789 - val_loss: 0.5063\n",
            "Epoch 7/10\n",
            "\u001b[1m51/51\u001b[0m \u001b[32m━━━━━━━━━━━━━━━━━━━━\u001b[0m\u001b[37m\u001b[0m \u001b[1m0s\u001b[0m 4ms/step - accuracy: 0.6947 - loss: 0.5227 - val_accuracy: 0.6863 - val_loss: 0.4993\n",
            "Epoch 8/10\n",
            "\u001b[1m51/51\u001b[0m \u001b[32m━━━━━━━━━━━━━━━━━━━━\u001b[0m\u001b[37m\u001b[0m \u001b[1m0s\u001b[0m 5ms/step - accuracy: 0.7050 - loss: 0.5298 - val_accuracy: 0.6789 - val_loss: 0.4936\n",
            "Epoch 9/10\n",
            "\u001b[1m51/51\u001b[0m \u001b[32m━━━━━━━━━━━━━━━━━━━━\u001b[0m\u001b[37m\u001b[0m \u001b[1m0s\u001b[0m 4ms/step - accuracy: 0.6911 - loss: 0.5347 - val_accuracy: 0.6912 - val_loss: 0.4897\n",
            "Epoch 10/10\n",
            "\u001b[1m51/51\u001b[0m \u001b[32m━━━━━━━━━━━━━━━━━━━━\u001b[0m\u001b[37m\u001b[0m \u001b[1m0s\u001b[0m 4ms/step - accuracy: 0.7018 - loss: 0.4834 - val_accuracy: 0.6863 - val_loss: 0.4825\n",
            "\u001b[1m16/16\u001b[0m \u001b[32m━━━━━━━━━━━━━━━━━━━━\u001b[0m\u001b[37m\u001b[0m \u001b[1m0s\u001b[0m 5ms/step\n",
            "\u001b[1m16/16\u001b[0m \u001b[32m━━━━━━━━━━━━━━━━━━━━\u001b[0m\u001b[37m\u001b[0m \u001b[1m0s\u001b[0m 5ms/step\n"
          ]
        }
      ],
      "source": [
        "# Train the data\n",
        "X_train, X_test, y_private_train, y_private_test, y_public_train, y_public_test = train_test_split(\n",
        "    X, y_private, y_public, test_size=0.2, random_state=42\n",
        ")\n",
        "\n",
        "# Forgot to import\n",
        "from tensorflow.keras.utils import to_categorical\n",
        "from tensorflow.keras.layers import Dense, Dropout\n",
        "\n",
        "# Convert targets to categorical\n",
        "y_private_train_cat = to_categorical(y_private_train)\n",
        "y_private_test_cat = to_categorical(y_private_test)\n",
        "y_public_train_cat = to_categorical(y_public_train)\n",
        "y_public_test_cat = to_categorical(y_public_test)\n",
        "\n",
        "# Define the model\n",
        "def create_model1(input_shape, output_shape):\n",
        "    model = Sequential([\n",
        "        Dense(64, activation='relu', input_shape=(input_shape,)),\n",
        "        Dropout(0.2),\n",
        "        Dense(32, activation='relu'),\n",
        "        Dropout(0.2),\n",
        "        Dense(16, activation='relu'),\n",
        "        Dense(output_shape, activation='softmax')\n",
        "    ])\n",
        "    model.compile(optimizer='adam', loss='categorical_crossentropy', metrics=['accuracy'])\n",
        "    return model\n",
        "\n",
        "\n",
        "# Train models for private and public service lines\n",
        "private_model = create_model1(X_train.shape[1], y_private_train_cat.shape[1])\n",
        "public_model = create_model1(X_train.shape[1], y_public_train_cat.shape[1])\n",
        "\n",
        "private_model.fit(X_train, y_private_train_cat, epochs=10, batch_size=32, validation_split=0.2, verbose=1)\n",
        "print(\"\\n--------------------------------------------------------------------------------------------\\n\")\n",
        "public_model.fit(X_train, y_public_train_cat, epochs=10, batch_size=32, validation_split=0.2, verbose=1)\n",
        "\n",
        "# Evaluate models\n",
        "private_pred = private_model.predict(X_test)\n",
        "public_pred = public_model.predict(X_test)\n",
        "\n",
        "private_pred_classes = np.argmax(private_pred, axis=1)\n",
        "public_pred_classes = np.argmax(public_pred, axis=1)\n"
      ]
    },
    {
      "cell_type": "markdown",
      "metadata": {
        "id": "Kvos6-yFg4G_"
      },
      "source": [
        "# **Neaural Networks model-2**"
      ]
    },
    {
      "cell_type": "code",
      "execution_count": 42,
      "metadata": {
        "colab": {
          "base_uri": "https://localhost:8080/"
        },
        "id": "dHEtoLSiMSSd",
        "outputId": "cee62c20-15b3-4f5a-c94f-3fa3528c7f50"
      },
      "outputs": [
        {
          "name": "stdout",
          "output_type": "stream",
          "text": [
            "Epoch 1/10\n"
          ]
        },
        {
          "name": "stderr",
          "output_type": "stream",
          "text": [
            "/usr/local/lib/python3.11/dist-packages/keras/src/layers/core/dense.py:87: UserWarning: Do not pass an `input_shape`/`input_dim` argument to a layer. When using Sequential models, prefer using an `Input(shape)` object as the first layer in the model instead.\n",
            "  super().__init__(activity_regularizer=activity_regularizer, **kwargs)\n"
          ]
        },
        {
          "name": "stdout",
          "output_type": "stream",
          "text": [
            "\u001b[1m51/51\u001b[0m \u001b[32m━━━━━━━━━━━━━━━━━━━━\u001b[0m\u001b[37m\u001b[0m \u001b[1m2s\u001b[0m 8ms/step - accuracy: 0.8074 - loss: 1.3769 - val_accuracy: 0.6691 - val_loss: 0.8149\n",
            "Epoch 2/10\n",
            "\u001b[1m51/51\u001b[0m \u001b[32m━━━━━━━━━━━━━━━━━━━━\u001b[0m\u001b[37m\u001b[0m \u001b[1m0s\u001b[0m 5ms/step - accuracy: 0.8354 - loss: 0.6216 - val_accuracy: 0.8676 - val_loss: 0.3712\n",
            "Epoch 3/10\n",
            "\u001b[1m51/51\u001b[0m \u001b[32m━━━━━━━━━━━━━━━━━━━━\u001b[0m\u001b[37m\u001b[0m \u001b[1m0s\u001b[0m 4ms/step - accuracy: 0.8714 - loss: 0.4475 - val_accuracy: 0.8480 - val_loss: 0.3782\n",
            "Epoch 4/10\n",
            "\u001b[1m51/51\u001b[0m \u001b[32m━━━━━━━━━━━━━━━━━━━━\u001b[0m\u001b[37m\u001b[0m \u001b[1m0s\u001b[0m 5ms/step - accuracy: 0.8560 - loss: 0.4402 - val_accuracy: 0.8676 - val_loss: 0.3837\n",
            "Epoch 5/10\n",
            "\u001b[1m51/51\u001b[0m \u001b[32m━━━━━━━━━━━━━━━━━━━━\u001b[0m\u001b[37m\u001b[0m \u001b[1m0s\u001b[0m 4ms/step - accuracy: 0.8651 - loss: 0.3869 - val_accuracy: 0.8676 - val_loss: 0.3595\n",
            "Epoch 6/10\n",
            "\u001b[1m51/51\u001b[0m \u001b[32m━━━━━━━━━━━━━━━━━━━━\u001b[0m\u001b[37m\u001b[0m \u001b[1m0s\u001b[0m 5ms/step - accuracy: 0.8538 - loss: 0.4054 - val_accuracy: 0.8676 - val_loss: 0.3577\n",
            "Epoch 7/10\n",
            "\u001b[1m51/51\u001b[0m \u001b[32m━━━━━━━━━━━━━━━━━━━━\u001b[0m\u001b[37m\u001b[0m \u001b[1m0s\u001b[0m 4ms/step - accuracy: 0.8648 - loss: 0.3601 - val_accuracy: 0.8676 - val_loss: 0.3646\n",
            "Epoch 8/10\n",
            "\u001b[1m51/51\u001b[0m \u001b[32m━━━━━━━━━━━━━━━━━━━━\u001b[0m\u001b[37m\u001b[0m \u001b[1m0s\u001b[0m 4ms/step - accuracy: 0.8703 - loss: 0.3743 - val_accuracy: 0.8676 - val_loss: 0.3585\n",
            "Epoch 9/10\n",
            "\u001b[1m51/51\u001b[0m \u001b[32m━━━━━━━━━━━━━━━━━━━━\u001b[0m\u001b[37m\u001b[0m \u001b[1m0s\u001b[0m 4ms/step - accuracy: 0.8669 - loss: 0.3762 - val_accuracy: 0.8676 - val_loss: 0.3514\n",
            "Epoch 10/10\n",
            "\u001b[1m51/51\u001b[0m \u001b[32m━━━━━━━━━━━━━━━━━━━━\u001b[0m\u001b[37m\u001b[0m \u001b[1m0s\u001b[0m 4ms/step - accuracy: 0.8668 - loss: 0.3551 - val_accuracy: 0.8676 - val_loss: 0.3531\n",
            "\n",
            "--------------------------------------------------------------------------------------------\n",
            "\n",
            "Epoch 1/10\n",
            "\u001b[1m51/51\u001b[0m \u001b[32m━━━━━━━━━━━━━━━━━━━━\u001b[0m\u001b[37m\u001b[0m \u001b[1m2s\u001b[0m 11ms/step - accuracy: 0.6937 - loss: 1.5996 - val_accuracy: 0.6863 - val_loss: 0.6848\n",
            "Epoch 2/10\n",
            "\u001b[1m51/51\u001b[0m \u001b[32m━━━━━━━━━━━━━━━━━━━━\u001b[0m\u001b[37m\u001b[0m \u001b[1m0s\u001b[0m 6ms/step - accuracy: 0.6986 - loss: 0.7739 - val_accuracy: 0.6765 - val_loss: 0.5831\n",
            "Epoch 3/10\n",
            "\u001b[1m51/51\u001b[0m \u001b[32m━━━━━━━━━━━━━━━━━━━━\u001b[0m\u001b[37m\u001b[0m \u001b[1m1s\u001b[0m 7ms/step - accuracy: 0.7095 - loss: 0.6022 - val_accuracy: 0.6789 - val_loss: 0.5141\n",
            "Epoch 4/10\n",
            "\u001b[1m51/51\u001b[0m \u001b[32m━━━━━━━━━━━━━━━━━━━━\u001b[0m\u001b[37m\u001b[0m \u001b[1m1s\u001b[0m 8ms/step - accuracy: 0.6964 - loss: 0.5937 - val_accuracy: 0.6789 - val_loss: 0.5078\n",
            "Epoch 5/10\n",
            "\u001b[1m51/51\u001b[0m \u001b[32m━━━━━━━━━━━━━━━━━━━━\u001b[0m\u001b[37m\u001b[0m \u001b[1m0s\u001b[0m 4ms/step - accuracy: 0.6902 - loss: 0.5539 - val_accuracy: 0.6765 - val_loss: 0.5008\n",
            "Epoch 6/10\n",
            "\u001b[1m51/51\u001b[0m \u001b[32m━━━━━━━━━━━━━━━━━━━━\u001b[0m\u001b[37m\u001b[0m \u001b[1m0s\u001b[0m 4ms/step - accuracy: 0.6843 - loss: 0.5249 - val_accuracy: 0.6716 - val_loss: 0.4950\n",
            "Epoch 7/10\n",
            "\u001b[1m51/51\u001b[0m \u001b[32m━━━━━━━━━━━━━━━━━━━━\u001b[0m\u001b[37m\u001b[0m \u001b[1m0s\u001b[0m 4ms/step - accuracy: 0.7132 - loss: 0.4980 - val_accuracy: 0.6789 - val_loss: 0.4869\n",
            "Epoch 8/10\n",
            "\u001b[1m51/51\u001b[0m \u001b[32m━━━━━━━━━━━━━━━━━━━━\u001b[0m\u001b[37m\u001b[0m \u001b[1m0s\u001b[0m 4ms/step - accuracy: 0.7049 - loss: 0.4780 - val_accuracy: 0.6740 - val_loss: 0.4764\n",
            "Epoch 9/10\n",
            "\u001b[1m51/51\u001b[0m \u001b[32m━━━━━━━━━━━━━━━━━━━━\u001b[0m\u001b[37m\u001b[0m \u001b[1m0s\u001b[0m 4ms/step - accuracy: 0.7018 - loss: 0.4581 - val_accuracy: 0.6740 - val_loss: 0.4641\n",
            "Epoch 10/10\n",
            "\u001b[1m51/51\u001b[0m \u001b[32m━━━━━━━━━━━━━━━━━━━━\u001b[0m\u001b[37m\u001b[0m \u001b[1m0s\u001b[0m 5ms/step - accuracy: 0.7093 - loss: 0.4682 - val_accuracy: 0.6716 - val_loss: 0.4550\n",
            "\u001b[1m16/16\u001b[0m \u001b[32m━━━━━━━━━━━━━━━━━━━━\u001b[0m\u001b[37m\u001b[0m \u001b[1m0s\u001b[0m 5ms/step\n",
            "\u001b[1m16/16\u001b[0m \u001b[32m━━━━━━━━━━━━━━━━━━━━\u001b[0m\u001b[37m\u001b[0m \u001b[1m0s\u001b[0m 5ms/step\n"
          ]
        }
      ],
      "source": [
        "def create_model2(input_shape, output_shape):\n",
        "    model = Sequential([\n",
        "        Dense(128, activation='relu', input_shape=(input_shape,)),\n",
        "        Dropout(0.3),  # Increase dropout slightly to prevent overfitting\n",
        "        Dense(64, activation='relu'),\n",
        "        Dropout(0.3),\n",
        "        Dense(32, activation='relu'),\n",
        "        Dense(output_shape, activation='softmax')\n",
        "    ])\n",
        "    model.compile(optimizer='adam', loss='categorical_crossentropy', metrics=['accuracy'])\n",
        "    return model\n",
        "\n",
        "\n",
        "# Train models for private and public service lines\n",
        "private_model = create_model2(X_train.shape[1], y_private_train_cat.shape[1])\n",
        "public_model = create_model2(X_train.shape[1], y_public_train_cat.shape[1])\n",
        "\n",
        "private_model.fit(X_train, y_private_train_cat, epochs=10, batch_size=32, validation_split=0.2, verbose=1)\n",
        "print(\"\\n--------------------------------------------------------------------------------------------\\n\")\n",
        "public_model.fit(X_train, y_public_train_cat, epochs=10, batch_size=32, validation_split=0.2, verbose=1)\n",
        "\n",
        "# Evaluate models\n",
        "private_pred = private_model.predict(X_test)\n",
        "public_pred = public_model.predict(X_test)\n",
        "\n",
        "private_pred_classes = np.argmax(private_pred, axis=1)\n",
        "public_pred_classes = np.argmax(public_pred, axis=1)\n"
      ]
    },
    {
      "cell_type": "markdown",
      "metadata": {
        "id": "3ErTgyD5g_SH"
      },
      "source": [
        "# **LeakyRelU**"
      ]
    },
    {
      "cell_type": "code",
      "execution_count": 43,
      "metadata": {
        "colab": {
          "base_uri": "https://localhost:8080/"
        },
        "id": "FqnQnniEMeR4",
        "outputId": "5b06d0ed-65e0-43d0-b4cf-ef01287c49f6"
      },
      "outputs": [
        {
          "name": "stdout",
          "output_type": "stream",
          "text": [
            "Epoch 1/10\n"
          ]
        },
        {
          "name": "stderr",
          "output_type": "stream",
          "text": [
            "/usr/local/lib/python3.11/dist-packages/keras/src/layers/activations/leaky_relu.py:41: UserWarning: Argument `alpha` is deprecated. Use `negative_slope` instead.\n",
            "  warnings.warn(\n"
          ]
        },
        {
          "name": "stdout",
          "output_type": "stream",
          "text": [
            "\u001b[1m51/51\u001b[0m \u001b[32m━━━━━━━━━━━━━━━━━━━━\u001b[0m\u001b[37m\u001b[0m \u001b[1m2s\u001b[0m 8ms/step - accuracy: 0.7065 - loss: 1.0632 - val_accuracy: 0.7598 - val_loss: 0.4537\n",
            "Epoch 2/10\n",
            "\u001b[1m51/51\u001b[0m \u001b[32m━━━━━━━━━━━━━━━━━━━━\u001b[0m\u001b[37m\u001b[0m \u001b[1m0s\u001b[0m 5ms/step - accuracy: 0.8409 - loss: 0.5110 - val_accuracy: 0.8676 - val_loss: 0.3977\n",
            "Epoch 3/10\n",
            "\u001b[1m51/51\u001b[0m \u001b[32m━━━━━━━━━━━━━━━━━━━━\u001b[0m\u001b[37m\u001b[0m \u001b[1m0s\u001b[0m 4ms/step - accuracy: 0.8645 - loss: 0.4546 - val_accuracy: 0.8676 - val_loss: 0.3943\n",
            "Epoch 4/10\n",
            "\u001b[1m51/51\u001b[0m \u001b[32m━━━━━━━━━━━━━━━━━━━━\u001b[0m\u001b[37m\u001b[0m \u001b[1m0s\u001b[0m 4ms/step - accuracy: 0.8554 - loss: 0.4102 - val_accuracy: 0.8676 - val_loss: 0.4065\n",
            "Epoch 5/10\n",
            "\u001b[1m51/51\u001b[0m \u001b[32m━━━━━━━━━━━━━━━━━━━━\u001b[0m\u001b[37m\u001b[0m \u001b[1m0s\u001b[0m 5ms/step - accuracy: 0.8741 - loss: 0.3936 - val_accuracy: 0.8676 - val_loss: 0.3811\n",
            "Epoch 6/10\n",
            "\u001b[1m51/51\u001b[0m \u001b[32m━━━━━━━━━━━━━━━━━━━━\u001b[0m\u001b[37m\u001b[0m \u001b[1m0s\u001b[0m 4ms/step - accuracy: 0.8848 - loss: 0.3209 - val_accuracy: 0.8676 - val_loss: 0.3856\n",
            "Epoch 7/10\n",
            "\u001b[1m51/51\u001b[0m \u001b[32m━━━━━━━━━━━━━━━━━━━━\u001b[0m\u001b[37m\u001b[0m \u001b[1m0s\u001b[0m 4ms/step - accuracy: 0.8580 - loss: 0.3707 - val_accuracy: 0.8676 - val_loss: 0.3741\n",
            "Epoch 8/10\n",
            "\u001b[1m51/51\u001b[0m \u001b[32m━━━━━━━━━━━━━━━━━━━━\u001b[0m\u001b[37m\u001b[0m \u001b[1m0s\u001b[0m 4ms/step - accuracy: 0.8587 - loss: 0.3558 - val_accuracy: 0.8676 - val_loss: 0.3725\n",
            "Epoch 9/10\n",
            "\u001b[1m51/51\u001b[0m \u001b[32m━━━━━━━━━━━━━━━━━━━━\u001b[0m\u001b[37m\u001b[0m \u001b[1m0s\u001b[0m 5ms/step - accuracy: 0.8721 - loss: 0.3549 - val_accuracy: 0.8676 - val_loss: 0.3617\n",
            "Epoch 10/10\n",
            "\u001b[1m51/51\u001b[0m \u001b[32m━━━━━━━━━━━━━━━━━━━━\u001b[0m\u001b[37m\u001b[0m \u001b[1m0s\u001b[0m 5ms/step - accuracy: 0.8792 - loss: 0.3312 - val_accuracy: 0.8676 - val_loss: 0.3587\n",
            "\n",
            "--------------------------------------------------------------------------------------------\n",
            "\n",
            "Epoch 1/10\n",
            "\u001b[1m51/51\u001b[0m \u001b[32m━━━━━━━━━━━━━━━━━━━━\u001b[0m\u001b[37m\u001b[0m \u001b[1m3s\u001b[0m 9ms/step - accuracy: 0.6042 - loss: 1.3085 - val_accuracy: 0.6863 - val_loss: 0.7405\n",
            "Epoch 2/10\n",
            "\u001b[1m51/51\u001b[0m \u001b[32m━━━━━━━━━━━━━━━━━━━━\u001b[0m\u001b[37m\u001b[0m \u001b[1m0s\u001b[0m 6ms/step - accuracy: 0.6764 - loss: 0.9250 - val_accuracy: 0.6789 - val_loss: 0.5228\n",
            "Epoch 3/10\n",
            "\u001b[1m51/51\u001b[0m \u001b[32m━━━━━━━━━━━━━━━━━━━━\u001b[0m\u001b[37m\u001b[0m \u001b[1m1s\u001b[0m 8ms/step - accuracy: 0.7029 - loss: 0.6376 - val_accuracy: 0.6667 - val_loss: 0.5154\n",
            "Epoch 4/10\n",
            "\u001b[1m51/51\u001b[0m \u001b[32m━━━━━━━━━━━━━━━━━━━━\u001b[0m\u001b[37m\u001b[0m \u001b[1m1s\u001b[0m 8ms/step - accuracy: 0.7044 - loss: 0.5662 - val_accuracy: 0.6716 - val_loss: 0.5157\n",
            "Epoch 5/10\n",
            "\u001b[1m51/51\u001b[0m \u001b[32m━━━━━━━━━━━━━━━━━━━━\u001b[0m\u001b[37m\u001b[0m \u001b[1m0s\u001b[0m 4ms/step - accuracy: 0.6891 - loss: 0.5675 - val_accuracy: 0.6863 - val_loss: 0.5053\n",
            "Epoch 6/10\n",
            "\u001b[1m51/51\u001b[0m \u001b[32m━━━━━━━━━━━━━━━━━━━━\u001b[0m\u001b[37m\u001b[0m \u001b[1m0s\u001b[0m 4ms/step - accuracy: 0.6893 - loss: 0.5157 - val_accuracy: 0.6667 - val_loss: 0.5005\n",
            "Epoch 7/10\n",
            "\u001b[1m51/51\u001b[0m \u001b[32m━━━━━━━━━━━━━━━━━━━━\u001b[0m\u001b[37m\u001b[0m \u001b[1m0s\u001b[0m 4ms/step - accuracy: 0.6993 - loss: 0.5065 - val_accuracy: 0.6789 - val_loss: 0.4927\n",
            "Epoch 8/10\n",
            "\u001b[1m51/51\u001b[0m \u001b[32m━━━━━━━━━━━━━━━━━━━━\u001b[0m\u001b[37m\u001b[0m \u001b[1m0s\u001b[0m 4ms/step - accuracy: 0.7260 - loss: 0.4605 - val_accuracy: 0.6838 - val_loss: 0.4728\n",
            "Epoch 9/10\n",
            "\u001b[1m51/51\u001b[0m \u001b[32m━━━━━━━━━━━━━━━━━━━━\u001b[0m\u001b[37m\u001b[0m \u001b[1m0s\u001b[0m 4ms/step - accuracy: 0.6963 - loss: 0.4818 - val_accuracy: 0.6642 - val_loss: 0.4694\n",
            "Epoch 10/10\n",
            "\u001b[1m51/51\u001b[0m \u001b[32m━━━━━━━━━━━━━━━━━━━━\u001b[0m\u001b[37m\u001b[0m \u001b[1m0s\u001b[0m 5ms/step - accuracy: 0.7003 - loss: 0.4694 - val_accuracy: 0.6789 - val_loss: 0.4468\n",
            "\u001b[1m16/16\u001b[0m \u001b[32m━━━━━━━━━━━━━━━━━━━━\u001b[0m\u001b[37m\u001b[0m \u001b[1m0s\u001b[0m 7ms/step\n",
            "\u001b[1m16/16\u001b[0m \u001b[32m━━━━━━━━━━━━━━━━━━━━\u001b[0m\u001b[37m\u001b[0m \u001b[1m0s\u001b[0m 5ms/step\n"
          ]
        }
      ],
      "source": [
        "from keras.layers import LeakyReLU\n",
        "\n",
        "def create_model3(input_shape, output_shape):\n",
        "    model = Sequential([\n",
        "        Dense(128),\n",
        "        LeakyReLU(alpha=0.01),  # Instead of 'relu'\n",
        "        Dropout(0.3),\n",
        "        Dense(64),\n",
        "        LeakyReLU(alpha=0.01),\n",
        "        Dropout(0.3),\n",
        "        Dense(32),\n",
        "        LeakyReLU(alpha=0.01),\n",
        "        Dense(output_shape, activation='softmax')\n",
        "    ])\n",
        "    model.compile(optimizer='adam', loss='categorical_crossentropy', metrics=['accuracy'])\n",
        "    return model\n",
        "\n",
        "\n",
        "# Train models for private and public service lines\n",
        "private_model = create_model3(X_train.shape[1], y_private_train_cat.shape[1])\n",
        "public_model = create_model3(X_train.shape[1], y_public_train_cat.shape[1])\n",
        "\n",
        "private_model.fit(X_train, y_private_train_cat, epochs=10, batch_size=32, validation_split=0.2, verbose=1)\n",
        "print(\"\\n--------------------------------------------------------------------------------------------\\n\")\n",
        "public_model.fit(X_train, y_public_train_cat, epochs=10, batch_size=32, validation_split=0.2, verbose=1)\n",
        "\n",
        "# Evaluate models\n",
        "private_pred = private_model.predict(X_test)\n",
        "public_pred = public_model.predict(X_test)\n",
        "\n",
        "private_pred_classes = np.argmax(private_pred, axis=1)\n",
        "public_pred_classes = np.argmax(public_pred, axis=1)"
      ]
    },
    {
      "cell_type": "code",
      "execution_count": 44,
      "metadata": {
        "colab": {
          "base_uri": "https://localhost:8080/"
        },
        "id": "U9YyeykMFOoA",
        "outputId": "2fcc290b-2bce-42bc-f678-612c74e3fb96"
      },
      "outputs": [
        {
          "name": "stdout",
          "output_type": "stream",
          "text": [
            "Private Service Line Material Classification Report:\n",
            "              precision    recall  f1-score   support\n",
            "\n",
            "           0       0.00      0.00      0.00        63\n",
            "           1       0.88      1.00      0.93       447\n",
            "\n",
            "    accuracy                           0.88       510\n",
            "   macro avg       0.44      0.50      0.47       510\n",
            "weighted avg       0.77      0.88      0.82       510\n",
            "\n",
            "\n",
            "Private Service Line Material Confusion Matrix:\n",
            "[[  0  63]\n",
            " [  0 447]]\n",
            "\n",
            "Public Service Line Material Classification Report:\n",
            "              precision    recall  f1-score   support\n",
            "\n",
            "           0       0.45      0.51      0.48       152\n",
            "           1       0.78      0.74      0.76       358\n",
            "\n",
            "    accuracy                           0.67       510\n",
            "   macro avg       0.62      0.63      0.62       510\n",
            "weighted avg       0.68      0.67      0.68       510\n",
            "\n",
            "\n",
            "Public Service Line Material Confusion Matrix:\n",
            "[[ 78  74]\n",
            " [ 94 264]]\n",
            "\u001b[1m1/1\u001b[0m \u001b[32m━━━━━━━━━━━━━━━━━━━━\u001b[0m\u001b[37m\u001b[0m \u001b[1m0s\u001b[0m 36ms/step\n",
            "\u001b[1m1/1\u001b[0m \u001b[32m━━━━━━━━━━━━━━━━━━━━\u001b[0m\u001b[37m\u001b[0m \u001b[1m0s\u001b[0m 36ms/step\n",
            "\n",
            "Sample Predictions:\n",
            "Private Service Line Material: ['NOT LEAD' 'NOT LEAD' 'NOT LEAD' 'NOT LEAD' 'NOT LEAD']\n",
            "Public Service Line Material: ['NOT LEAD' 'NOT LEAD' 'NOT LEAD' 'LEAD' 'NOT LEAD']\n"
          ]
        },
        {
          "name": "stderr",
          "output_type": "stream",
          "text": [
            "/usr/local/lib/python3.11/dist-packages/sklearn/metrics/_classification.py:1565: UndefinedMetricWarning: Precision is ill-defined and being set to 0.0 in labels with no predicted samples. Use `zero_division` parameter to control this behavior.\n",
            "  _warn_prf(average, modifier, f\"{metric.capitalize()} is\", len(result))\n",
            "/usr/local/lib/python3.11/dist-packages/sklearn/metrics/_classification.py:1565: UndefinedMetricWarning: Precision is ill-defined and being set to 0.0 in labels with no predicted samples. Use `zero_division` parameter to control this behavior.\n",
            "  _warn_prf(average, modifier, f\"{metric.capitalize()} is\", len(result))\n",
            "/usr/local/lib/python3.11/dist-packages/sklearn/metrics/_classification.py:1565: UndefinedMetricWarning: Precision is ill-defined and being set to 0.0 in labels with no predicted samples. Use `zero_division` parameter to control this behavior.\n",
            "  _warn_prf(average, modifier, f\"{metric.capitalize()} is\", len(result))\n"
          ]
        }
      ],
      "source": [
        "# For model one only\n",
        "from sklearn.metrics import classification_report\n",
        "from sklearn.metrics import confusion_matrix\n",
        "\n",
        "print(\"Private Service Line Material Classification Report:\")\n",
        "print(classification_report(y_private_test, private_pred_classes))\n",
        "print(\"\\nPrivate Service Line Material Confusion Matrix:\")\n",
        "print(confusion_matrix(y_private_test, private_pred_classes))\n",
        "\n",
        "\n",
        "print(\"\\nPublic Service Line Material Classification Report:\")\n",
        "print(classification_report(y_public_test, public_pred_classes))\n",
        "print(\"\\nPublic Service Line Material Confusion Matrix:\")\n",
        "print(confusion_matrix(y_public_test, public_pred_classes))\n",
        "\n",
        "# Function to predict service line material\n",
        "def predict_service_line(model, X):\n",
        "    pred = model.predict(X)\n",
        "    pred_classes = np.argmax(pred, axis=1)\n",
        "    return le.inverse_transform(pred_classes)\n",
        "\n",
        "# Example prediction\n",
        "sample_data = X_test.iloc[:5]  # Take first 5 samples for demonstration\n",
        "private_predictions = predict_service_line(private_model, sample_data)\n",
        "public_predictions = predict_service_line(public_model, sample_data)\n",
        "\n",
        "print(\"\\nSample Predictions:\")\n",
        "print(\"Private Service Line Material:\", private_predictions)\n",
        "print(\"Public Service Line Material:\", public_predictions)"
      ]
    }
  ],
  "metadata": {
    "colab": {
      "provenance": []
    },
    "kernelspec": {
      "display_name": "Python 3",
      "name": "python3"
    },
    "language_info": {
      "name": "python"
    }
  },
  "nbformat": 4,
  "nbformat_minor": 0
}
